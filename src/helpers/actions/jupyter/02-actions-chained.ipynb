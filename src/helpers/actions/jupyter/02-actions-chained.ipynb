{
 "cells": [
  {
   "cell_type": "code",
   "execution_count": 9,
   "metadata": {},
   "outputs": [],
   "source": [
    "from src.helpers.actions import *"
   ]
  },
  {
   "cell_type": "code",
   "execution_count": 10,
   "metadata": {},
   "outputs": [],
   "source": [
    "class SayHelloParams(ActionParamsDTO):\n",
    "    name: str\n",
    "\n",
    "\n",
    "class SayHelloReturn(ActionNoneDTO):\n",
    "    pass\n",
    "\n",
    "\n",
    "class SayHelloAction(ActionBase[SayHelloReturn]):\n",
    "    async def run(self, params: SayHelloParams) -> SayHelloReturn:\n",
    "        print(f\"Hello, {params.name}!\")\n",
    "\n",
    "        return SayHelloReturn()"
   ]
  },
  {
   "cell_type": "code",
   "execution_count": 11,
   "metadata": {},
   "outputs": [],
   "source": [
    "class FetchUserParams(ActionParamsDTO):\n",
    "    id: int\n",
    "\n",
    "\n",
    "class FetchUserReturn(ActionReturnDTO):\n",
    "    id: int\n",
    "    name: str\n",
    "    display_name: str\n",
    "\n",
    "\n",
    "class FetchUserAction(ActionBase[FetchUserReturn]):\n",
    "    async def run(self, params: FetchUserParams) -> FetchUserReturn:\n",
    "        db = {\n",
    "            1: FetchUserReturn(id=1, name=\"John Snow\", display_name=\"john.snow\"),\n",
    "            2: FetchUserReturn(id=2, name=\"Mary Doe\", display_name=\"mary.doe\"),\n",
    "        }\n",
    "\n",
    "        user_db = db.get(params.id)\n",
    "\n",
    "        if not user_db:\n",
    "            raise Exception(\"User not found\")\n",
    "\n",
    "        return user_db"
   ]
  },
  {
   "cell_type": "code",
   "execution_count": 12,
   "metadata": {},
   "outputs": [
    {
     "name": "stdout",
     "output_type": "stream",
     "text": [
      "Hello, Mary Doe!\n"
     ]
    }
   ],
   "source": [
    "class FetchAndGreetAction(ChainActionBase[SayHelloReturn]):\n",
    "    actions: ActionsClasses = [FetchUserAction, SayHelloAction]\n",
    "\n",
    "\n",
    "fetchAndGreet = FetchAndGreetAction()\n",
    "\n",
    "result = await fetchAndGreet.run(FetchUserParams(id=2))"
   ]
  }
 ],
 "metadata": {
  "kernelspec": {
   "display_name": "myenv",
   "language": "python",
   "name": "python3"
  },
  "language_info": {
   "codemirror_mode": {
    "name": "ipython",
    "version": 3
   },
   "file_extension": ".py",
   "mimetype": "text/x-python",
   "name": "python",
   "nbconvert_exporter": "python",
   "pygments_lexer": "ipython3",
   "version": "3.11.5"
  }
 },
 "nbformat": 4,
 "nbformat_minor": 2
}
