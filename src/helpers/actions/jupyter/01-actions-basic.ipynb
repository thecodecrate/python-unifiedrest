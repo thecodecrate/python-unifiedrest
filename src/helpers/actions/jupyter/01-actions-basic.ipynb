{
 "cells": [
  {
   "cell_type": "code",
   "execution_count": 1,
   "metadata": {},
   "outputs": [],
   "source": [
    "from src.helpers.actions import *"
   ]
  },
  {
   "cell_type": "code",
   "execution_count": 2,
   "metadata": {},
   "outputs": [
    {
     "name": "stdout",
     "output_type": "stream",
     "text": [
      "Hello, Jupyter!\n"
     ]
    }
   ],
   "source": [
    "class SayHelloParams(ActionParamsDTO):\n",
    "    name: str\n",
    "\n",
    "class SayHelloReturn(ActionNoneDTO):\n",
    "    pass\n",
    "\n",
    "class SayHelloAction(ActionBase[SayHelloReturn]):\n",
    "    async def run(self, params: SayHelloParams) -> SayHelloReturn:\n",
    "        print(f\"Hello, {params.name}!\")\n",
    "\n",
    "        return SayHelloReturn()\n",
    "\n",
    "helloAction = SayHelloAction()\n",
    "\n",
    "result = await helloAction.run(SayHelloParams(name=\"Jupyter\"))"
   ]
  }
 ],
 "metadata": {
  "kernelspec": {
   "display_name": "myenv",
   "language": "python",
   "name": "python3"
  },
  "language_info": {
   "codemirror_mode": {
    "name": "ipython",
    "version": 3
   },
   "file_extension": ".py",
   "mimetype": "text/x-python",
   "name": "python",
   "nbconvert_exporter": "python",
   "pygments_lexer": "ipython3",
   "version": "3.11.5"
  }
 },
 "nbformat": 4,
 "nbformat_minor": 2
}
