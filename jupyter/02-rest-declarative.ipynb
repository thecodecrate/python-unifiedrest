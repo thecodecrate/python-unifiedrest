{
 "cells": [
  {
   "cell_type": "code",
   "execution_count": 1,
   "metadata": {},
   "outputs": [],
   "source": [
    "from src import *"
   ]
  },
  {
   "cell_type": "code",
   "execution_count": 2,
   "metadata": {},
   "outputs": [],
   "source": [
    "from typing import Any\n",
    "\n",
    "\n",
    "class RestClient(ClientBase):\n",
    "    base_url: str = \"https://swapi.dev/api/\"\n",
    "\n",
    "\n",
    "class RestRemoteAction(RemoteActionBase[TReturnDTO]):\n",
    "    client: Any = RestClient()"
   ]
  },
  {
   "cell_type": "code",
   "execution_count": 3,
   "metadata": {},
   "outputs": [],
   "source": [
    "class Person(DTO):\n",
    "    id: int\n",
    "    name: str\n",
    "    height: int\n",
    "    mass: int\n",
    "    hair_color: str"
   ]
  },
  {
   "cell_type": "code",
   "execution_count": 4,
   "metadata": {},
   "outputs": [
    {
     "data": {
      "text/plain": [
       "Person(id=7, name='Beru Whitesun lars', height=165, mass=75, hair_color='brown')"
      ]
     },
     "execution_count": 4,
     "metadata": {},
     "output_type": "execute_result"
    }
   ],
   "source": [
    "class ParamsFetchPerson(DTO):\n",
    "    id: int\n",
    "\n",
    "\n",
    "class OutputFetchPerson(DTO):\n",
    "    name: str\n",
    "    height: int\n",
    "    mass: int\n",
    "    hair_color: str\n",
    "\n",
    "\n",
    "class MakeReturnFromFetchPersonAction(MakeReturnFromOutputAction[Person]):\n",
    "    async def run(\n",
    "        self,\n",
    "        params: ParamsMakeReturnFromOutput[\n",
    "            ParamsFetchPerson, ActionNoneDTO, OutputFetchPerson\n",
    "        ],\n",
    "    ) -> Person:\n",
    "        return Person(\n",
    "            id=params.params_dto.id,\n",
    "            **params.response_data.model_dump(),\n",
    "        )\n",
    "\n",
    "\n",
    "class FetchPersonRemoteAction(RestRemoteAction[Person]):\n",
    "    url_template: str = \"people/{id}\"\n",
    "    method: HttpVerbs = HttpVerbs.GET\n",
    "    params_class: Any = ParamsFetchPerson\n",
    "    input_class: Any = ActionNoneDTO\n",
    "    output_class: Any = OutputFetchPerson\n",
    "    return_class: Any = Person\n",
    "    make_return_from_output: Any = MakeReturnFromFetchPersonAction\n",
    "\n",
    "\n",
    "fetch_person = FetchPersonRemoteAction()\n",
    "\n",
    "await fetch_person.run(ParamsFetchPerson(id=7))"
   ]
  }
 ],
 "metadata": {
  "kernelspec": {
   "display_name": "myenv",
   "language": "python",
   "name": "python3"
  },
  "language_info": {
   "codemirror_mode": {
    "name": "ipython",
    "version": 3
   },
   "file_extension": ".py",
   "mimetype": "text/x-python",
   "name": "python",
   "nbconvert_exporter": "python",
   "pygments_lexer": "ipython3",
   "version": "3.11.5"
  }
 },
 "nbformat": 4,
 "nbformat_minor": 2
}
